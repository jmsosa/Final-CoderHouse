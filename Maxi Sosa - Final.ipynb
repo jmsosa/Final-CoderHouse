{
 "cells": [
  {
   "cell_type": "code",
   "execution_count": 15,
   "id": "1e818f29-454c-42be-a847-b6d0f67775d1",
   "metadata": {},
   "outputs": [
    {
     "data": {
      "application/vnd.jupyter.widget-view+json": {
       "model_id": "e5d753e6d4ec490691f7738e8af2279a",
       "version_major": 2,
       "version_minor": 0
      },
      "text/plain": [
       "Password(description='API Key:', layout=Layout(width='90%'), placeholder='Ingresa tu API key aquí...')"
      ]
     },
     "metadata": {},
     "output_type": "display_data"
    },
    {
     "data": {
      "application/vnd.jupyter.widget-view+json": {
       "model_id": "ce90df62582f41c9b48afae969b73b40",
       "version_major": 2,
       "version_minor": 0
      },
      "text/plain": [
       "Button(description='Establecer API Key', style=ButtonStyle())"
      ]
     },
     "metadata": {},
     "output_type": "display_data"
    },
    {
     "data": {
      "application/vnd.jupyter.widget-view+json": {
       "model_id": "727ea0424bb7458eb067638484d13ba8",
       "version_major": 2,
       "version_minor": 0
      },
      "text/plain": [
       "Textarea(value='', description='Texto:', layout=Layout(height='150px', width='90%'), placeholder='Ingresa tu t…"
      ]
     },
     "metadata": {},
     "output_type": "display_data"
    },
    {
     "data": {
      "application/vnd.jupyter.widget-view+json": {
       "model_id": "ef9f242dd1784dbd93e0ddf095a61b80",
       "version_major": 2,
       "version_minor": 0
      },
      "text/plain": [
       "Dropdown(description='Opciones:', options=(('Sugerir Títulos', 1), ('Generar Imagen', 2), ('Sugerir Keywords',…"
      ]
     },
     "metadata": {},
     "output_type": "display_data"
    },
    {
     "data": {
      "application/vnd.jupyter.widget-view+json": {
       "model_id": "17f8b2d49cb145259880a90637262aca",
       "version_major": 2,
       "version_minor": 0
      },
      "text/plain": [
       "Button(description='Procesar', style=ButtonStyle())"
      ]
     },
     "metadata": {},
     "output_type": "display_data"
    },
    {
     "data": {
      "application/vnd.jupyter.widget-view+json": {
       "model_id": "e79748c629844d9895cb95f9ccefa1db",
       "version_major": 2,
       "version_minor": 0
      },
      "text/plain": [
       "Output()"
      ]
     },
     "metadata": {},
     "output_type": "display_data"
    }
   ],
   "source": [
    "import openai\n",
    "import ipywidgets as widgets\n",
    "from IPython.display import display\n",
    "\n",
    "# Inicializar la clave API como None\n",
    "api_key = None\n",
    "\n",
    "# Función para sugerir títulos\n",
    "def sugerir_titulos(texto):\n",
    "    response = openai.ChatCompletion.create(\n",
    "        model=\"gpt-3.5-turbo\",\n",
    "        messages=[\n",
    "            {\"role\": \"user\", \"content\": f\"Genera 5 sugerencias de títulos optimizados en SEO, para este texto: {texto}\"}\n",
    "        ]\n",
    "    )\n",
    "    titulos = response.choices[0]['message']['content'].split('\\n')\n",
    "    return [titulo.strip() for titulo in titulos if titulo.strip()]\n",
    "\n",
    "# Función para sugerir keywords\n",
    "def sugerir_keywords(texto):\n",
    "    response = openai.ChatCompletion.create(\n",
    "        model=\"gpt-3.5-turbo\",\n",
    "        messages=[\n",
    "            {\"role\": \"user\", \"content\": f\"Genera keywords relevantes segun la tendencia de googleTrends para este texto: {texto}\"}\n",
    "        ]\n",
    "    )\n",
    "    keywords = response.choices[0]['message']['content']\n",
    "    return keywords.split(\", \")\n",
    "\n",
    "# Función para generar un resumen breve (menor a 1000 caracteres)\n",
    "def generar_resumen(texto):\n",
    "    response = openai.ChatCompletion.create(\n",
    "        model=\"gpt-3.5-turbo\",\n",
    "        messages=[\n",
    "            {\"role\": \"user\", \"content\": f\"Resume el siguiente texto en menos de 1000 caracteres: {texto}\"}\n",
    "        ]\n",
    "    )\n",
    "    resumen = response.choices[0]['message']['content']\n",
    "    return resumen[:1000]  # Asegurar que el resumen no exceda los 1000 caracteres\n",
    "\n",
    "# Función para generar imagen usando DALL-E\n",
    "def generar_imagen(resumen):\n",
    "    response = openai.Image.create(\n",
    "        prompt=resumen,\n",
    "        n=1,\n",
    "        size=\"512x512\"  # Tamaño de la imagen\n",
    "    )\n",
    "    return response['data'][0]['url']\n",
    "\n",
    "# Función para generar bajada\n",
    "def generar_bajada(texto):\n",
    "    response = openai.ChatCompletion.create(\n",
    "        model=\"gpt-3.5-turbo\",\n",
    "        messages=[\n",
    "            {\"role\": \"user\", \"content\": f\"Genera una bajada breve en 150 palabras, para este texto: {texto}\"}\n",
    "        ]\n",
    "    )\n",
    "    return response.choices[0]['message']['content']\n",
    "\n",
    "# Función para generar información extra\n",
    "def generar_informacion_extra(texto):\n",
    "    response = openai.ChatCompletion.create(\n",
    "        model=\"gpt-3.5-turbo\",\n",
    "        messages=[\n",
    "            {\"role\": \"user\", \"content\": f\"Proporciona información adicional que sea interesante para este texto: {texto}\"}\n",
    "        ]\n",
    "    )\n",
    "    return response.choices[0]['message']['content']\n",
    "\n",
    "# Función para revisar gramática\n",
    "def revisar_gramatica(texto):\n",
    "    response = openai.ChatCompletion.create(\n",
    "        model=\"gpt-3.5-turbo\",\n",
    "        messages=[\n",
    "            {\"role\": \"user\", \"content\": f\"Revisa la gramática de este texto: {texto}\"}\n",
    "        ]\n",
    "    )\n",
    "    return response.choices[0]['message']['content']\n",
    "\n",
    "# Función para manejar el evento de botón\n",
    "def procesar_texto(b):\n",
    "    global api_key\n",
    "    if api_key is None:\n",
    "        output_area.append_stdout(\"Por favor, ingresa tu API key de OpenAI.\\n\")\n",
    "        return\n",
    "\n",
    "    openai.api_key = api_key  # Establecer la clave API\n",
    "    \n",
    "    texto = texto_input.value\n",
    "    if not texto.strip():\n",
    "        output_area.append_stdout(\"Por favor, ingresa un texto.\\n\")\n",
    "        return\n",
    "    \n",
    "    opcion = opcion_selector.value\n",
    "    \n",
    "    if opcion == 1:\n",
    "        titulos = sugerir_titulos(texto)\n",
    "        output_area.append_stdout(\"\\nSugerencias de Títulos:\\n\")\n",
    "        for titulo in titulos:\n",
    "            output_area.append_stdout(titulo + \"\\n\")\n",
    "    \n",
    "    elif opcion == 2:\n",
    "        resumen = generar_resumen(texto)\n",
    "        output_area.append_stdout(f\"\\nResumen para la imagen: {resumen}\\n\")\n",
    "        imagen_url = generar_imagen(resumen)\n",
    "        output_area.append_stdout(f\"\\nURL de la imagen generada: {imagen_url}\\n\")\n",
    "    \n",
    "    elif opcion == 3:\n",
    "        keywords = sugerir_keywords(texto)\n",
    "        output_area.append_stdout(\"\\nSugerencias de Keywords:\\n\")\n",
    "        output_area.append_stdout(\", \".join(keywords) + \"\\n\")\n",
    "    \n",
    "    elif opcion == 4:\n",
    "        bajada = generar_bajada(texto)\n",
    "        output_area.append_stdout(f\"\\nBajada (Resumen): {bajada}\\n\")\n",
    "    \n",
    "    elif opcion == 5:\n",
    "        info_extra = generar_informacion_extra(texto)\n",
    "        output_area.append_stdout(f\"\\nInformación Extra: {info_extra}\\n\")\n",
    "    \n",
    "    elif opcion == 6:\n",
    "        gramatica = revisar_gramatica(texto)\n",
    "        output_area.append_stdout(f\"\\nRevisión Gramatical:\\n{gramatica}\\n\")\n",
    "\n",
    "# Función para manejar el evento de ingreso de API key\n",
    "def set_api_key(b):\n",
    "    global api_key\n",
    "    api_key = api_key_input.value.strip()  # Guardar la API key\n",
    "    output_area.append_stdout(\"API key establecida. Puedes procesar el texto ahora.\\n\")\n",
    "\n",
    "# Widgets para la interfaz gráfica\n",
    "api_key_input = widgets.Password(  # Cambiado a Password\n",
    "    placeholder='Ingresa tu API key aquí...',\n",
    "    description='API Key:',\n",
    "    layout=widgets.Layout(width='90%')\n",
    ")\n",
    "\n",
    "texto_input = widgets.Textarea(\n",
    "    placeholder='Ingresa tu texto aquí...',\n",
    "    description='Texto:',\n",
    "    layout=widgets.Layout(width='90%', height='150px')\n",
    ")\n",
    "\n",
    "opcion_selector = widgets.Dropdown(\n",
    "    options=[\n",
    "        ('Sugerir Títulos', 1),\n",
    "        ('Generar Imagen', 2),\n",
    "        ('Sugerir Keywords', 3),\n",
    "        ('Generar Bajada', 4),\n",
    "        ('Generar Información Extra', 5),\n",
    "        ('Revisar Gramática', 6),\n",
    "    ],\n",
    "    description='Opciones:',\n",
    ")\n",
    "\n",
    "boton_set_api_key = widgets.Button(description=\"Establecer API Key\")\n",
    "boton_procesar = widgets.Button(description=\"Procesar\")\n",
    "output_area = widgets.Output()\n",
    "\n",
    "# Conectar los botones a las funciones\n",
    "boton_set_api_key.on_click(set_api_key)\n",
    "boton_procesar.on_click(procesar_texto)\n",
    "\n",
    "# Mostrar los widgets\n",
    "display(api_key_input, boton_set_api_key, texto_input, opcion_selector, boton_procesar, output_area)\n"
   ]
  },
  {
   "cell_type": "code",
   "execution_count": null,
   "id": "32c4bdb0-7bd2-445a-99d6-df960681b113",
   "metadata": {},
   "outputs": [],
   "source": []
  }
 ],
 "metadata": {
  "kernelspec": {
   "display_name": "Python 3 (ipykernel)",
   "language": "python",
   "name": "python3"
  },
  "language_info": {
   "codemirror_mode": {
    "name": "ipython",
    "version": 3
   },
   "file_extension": ".py",
   "mimetype": "text/x-python",
   "name": "python",
   "nbconvert_exporter": "python",
   "pygments_lexer": "ipython3",
   "version": "3.10.14"
  }
 },
 "nbformat": 4,
 "nbformat_minor": 5
}
